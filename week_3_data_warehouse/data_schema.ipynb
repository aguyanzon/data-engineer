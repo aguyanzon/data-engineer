{
 "cells": [
  {
   "cell_type": "code",
   "execution_count": 12,
   "id": "c08117b1-59fc-4e61-8e92-a7eb489db755",
   "metadata": {},
   "outputs": [],
   "source": [
    "import pandas as pd"
   ]
  },
  {
   "cell_type": "markdown",
   "id": "6a999633-1378-4700-b0e5-57813ea69845",
   "metadata": {},
   "source": [
    "## Yellow"
   ]
  },
  {
   "cell_type": "code",
   "execution_count": 13,
   "id": "984f8fc4-53c0-43e5-9e17-5cab782a55e7",
   "metadata": {},
   "outputs": [],
   "source": [
    "yellow = {\n",
    "  \"VendorID\": \"Int64\",\n",
    "  \"tpep_pickup_datetime\": \"datetime64[ns]\",\n",
    "  \"tpep_dropoff_datetime\": \"datetime64[ns]\",\n",
    "  \"passenger_count\": \"Int64\",\n",
    "  \"trip_distance\": \"float64\",\n",
    "  \"PULocationID\": \"Int64\",\n",
    "  \"DOLocationID\": \"Int64\",\n",
    "  \"RatecodeID\": \"Int64\",\n",
    "  \"store_and_fwd_flag\": \"string\",\n",
    "  \"payment_type\": \"Int64\",\n",
    "  \"fare_amount\": \"float64\",\n",
    "  \"extra\": \"float64\",\n",
    "  \"mta_tax\": \"float64\",\n",
    "  \"improvement_surcharge\": \"float64\",\n",
    "  \"tip_amount\": \"float64\",\n",
    "  \"tolls_amount\": \"float64\",\n",
    "  \"total_amount\": \"float64\",\n",
    "  \"congestion_surcharge\": \"float64\"\n",
    "}"
   ]
  },
  {
   "cell_type": "markdown",
   "id": "a0dc4645-f287-4c59-b213-06d1280c6569",
   "metadata": {},
   "source": [
    "### 2019"
   ]
  },
  {
   "cell_type": "code",
   "execution_count": 14,
   "id": "1bde17e3-41fb-405f-8f20-2b9065e5399e",
   "metadata": {},
   "outputs": [],
   "source": [
    "df1_yellow_19 = pd.read_parquet('files/yellow_tripdata_2019-01.parquet').astype(yellow)\n",
    "df2_yellow_19 = pd.read_parquet('files/yellow_tripdata_2019-02.parquet').astype(yellow)\n",
    "df3_yellow_19 = pd.read_parquet('files/yellow_tripdata_2019-03.parquet').astype(yellow)\n",
    "df4_yellow_19 = pd.read_parquet('files/yellow_tripdata_2019-04.parquet').astype(yellow)\n",
    "df5_yellow_19 = pd.read_parquet('files/yellow_tripdata_2019-05.parquet').astype(yellow)\n",
    "df6_yellow_19 = pd.read_parquet('files/yellow_tripdata_2019-06.parquet').astype(yellow)\n",
    "df7_yellow_19 = pd.read_parquet('files/yellow_tripdata_2019-07.parquet').astype(yellow)\n",
    "df8_yellow_19 = pd.read_parquet('files/yellow_tripdata_2019-08.parquet').astype(yellow)\n",
    "df9_yellow_19 = pd.read_parquet('files/yellow_tripdata_2019-09.parquet').astype(yellow)\n",
    "df10_yellow_19 = pd.read_parquet('files/yellow_tripdata_2019-10.parquet').astype(yellow)\n",
    "df11_yellow_19 = pd.read_parquet('files/yellow_tripdata_2019-11.parquet').astype(yellow)\n",
    "df12_yellow_19 = pd.read_parquet('files/yellow_tripdata_2019-12.parquet').astype(yellow)"
   ]
  },
  {
   "cell_type": "code",
   "execution_count": 15,
   "id": "de972271-4f71-4b3c-a754-7477f88319d3",
   "metadata": {},
   "outputs": [],
   "source": [
    "df1_yellow_19.to_parquet(f'files/yellow_tripdata_2019-01.parquet', engine='pyarrow', index=False)\n",
    "df2_yellow_19.to_parquet(f'files/yellow_tripdata_2019-02.parquet', engine='pyarrow', index=False)\n",
    "df3_yellow_19.to_parquet(f'files/yellow_tripdata_2019-03.parquet', engine='pyarrow', index=False)\n",
    "df4_yellow_19.to_parquet(f'files/yellow_tripdata_2019-04.parquet', engine='pyarrow', index=False)\n",
    "df5_yellow_19.to_parquet(f'files/yellow_tripdata_2019-05.parquet', engine='pyarrow', index=False)\n",
    "df6_yellow_19.to_parquet(f'files/yellow_tripdata_2019-06.parquet', engine='pyarrow', index=False)\n",
    "df7_yellow_19.to_parquet(f'files/yellow_tripdata_2019-07.parquet', engine='pyarrow', index=False)\n",
    "df8_yellow_19.to_parquet(f'files/yellow_tripdata_2019-08.parquet', engine='pyarrow', index=False)\n",
    "df9_yellow_19.to_parquet(f'files/yellow_tripdata_2019-09.parquet', engine='pyarrow', index=False)\n",
    "df10_yellow_19.to_parquet(f'files/yellow_tripdata_2019-10.parquet', engine='pyarrow', index=False)\n",
    "df11_yellow_19.to_parquet(f'files/yellow_tripdata_2019-11.parquet', engine='pyarrow', index=False)\n",
    "df12_yellow_19.to_parquet(f'files/yellow_tripdata_2019-12.parquet', engine='pyarrow', index=False)"
   ]
  },
  {
   "cell_type": "markdown",
   "id": "aefaa37a-9565-4810-8224-b8957f620e86",
   "metadata": {},
   "source": [
    "### 2020"
   ]
  },
  {
   "cell_type": "code",
   "execution_count": 16,
   "id": "cdbca285-7b57-470f-bb83-51f6b2a3b560",
   "metadata": {},
   "outputs": [],
   "source": [
    "df1_yellow_20 = pd.read_parquet('files/yellow_tripdata_2020-01.parquet').astype(yellow)\n",
    "df2_yellow_20 = pd.read_parquet('files/yellow_tripdata_2020-02.parquet').astype(yellow)\n",
    "df3_yellow_20 = pd.read_parquet('files/yellow_tripdata_2020-03.parquet').astype(yellow)\n",
    "df4_yellow_20 = pd.read_parquet('files/yellow_tripdata_2020-04.parquet').astype(yellow)\n",
    "df5_yellow_20 = pd.read_parquet('files/yellow_tripdata_2020-05.parquet').astype(yellow)\n",
    "df6_yellow_20 = pd.read_parquet('files/yellow_tripdata_2020-06.parquet').astype(yellow)\n",
    "df7_yellow_20 = pd.read_parquet('files/yellow_tripdata_2020-07.parquet').astype(yellow)\n",
    "df8_yellow_20 = pd.read_parquet('files/yellow_tripdata_2020-08.parquet').astype(yellow)\n",
    "df9_yellow_20 = pd.read_parquet('files/yellow_tripdata_2020-09.parquet').astype(yellow)\n",
    "df10_yellow_20 = pd.read_parquet('files/yellow_tripdata_2020-10.parquet').astype(yellow)\n",
    "df11_yellow_20 = pd.read_parquet('files/yellow_tripdata_2020-11.parquet').astype(yellow)\n",
    "df12_yellow_20 = pd.read_parquet('files/yellow_tripdata_2020-12.parquet').astype(yellow)"
   ]
  },
  {
   "cell_type": "code",
   "execution_count": 17,
   "id": "8fd46de8-073c-492c-9ccd-f8c99a3ebaf1",
   "metadata": {},
   "outputs": [],
   "source": [
    "df1_yellow_20.to_parquet(f'files/yellow_tripdata_2020-01.parquet', engine='pyarrow', index=False)\n",
    "df2_yellow_20.to_parquet(f'files/yellow_tripdata_2020-02.parquet', engine='pyarrow', index=False)\n",
    "df3_yellow_20.to_parquet(f'files/yellow_tripdata_2020-03.parquet', engine='pyarrow', index=False)\n",
    "df4_yellow_20.to_parquet(f'files/yellow_tripdata_2020-04.parquet', engine='pyarrow', index=False)\n",
    "df5_yellow_20.to_parquet(f'files/yellow_tripdata_2020-05.parquet', engine='pyarrow', index=False)\n",
    "df6_yellow_20.to_parquet(f'files/yellow_tripdata_2020-06.parquet', engine='pyarrow', index=False)\n",
    "df7_yellow_20.to_parquet(f'files/yellow_tripdata_2020-07.parquet', engine='pyarrow', index=False)\n",
    "df8_yellow_20.to_parquet(f'files/yellow_tripdata_2020-08.parquet', engine='pyarrow', index=False)\n",
    "df9_yellow_20.to_parquet(f'files/yellow_tripdata_2020-09.parquet', engine='pyarrow', index=False)\n",
    "df10_yellow_20.to_parquet(f'files/yellow_tripdata_2020-10.parquet', engine='pyarrow', index=False)\n",
    "df11_yellow_20.to_parquet(f'files/yellow_tripdata_2020-11.parquet', engine='pyarrow', index=False)\n",
    "df12_yellow_20.to_parquet(f'files/yellow_tripdata_2020-12.parquet', engine='pyarrow', index=False)"
   ]
  },
  {
   "cell_type": "markdown",
   "id": "3e028780-31c3-4a51-815c-20aafe4cf0b7",
   "metadata": {},
   "source": [
    "## Green"
   ]
  },
  {
   "cell_type": "code",
   "execution_count": 19,
   "id": "5c58dc84-ad98-4281-9404-bb8db9bfcbe6",
   "metadata": {},
   "outputs": [],
   "source": [
    "green = {\n",
    "  \"VendorID\": \"Int64\",\n",
    "  \"lpep_pickup_datetime\": \"datetime64[ns]\",\n",
    "  \"lpep_dropoff_datetime\": \"datetime64[ns]\",\n",
    "  \"passenger_count\": \"Int64\",\n",
    "  \"trip_distance\": \"float64\",\n",
    "  \"PULocationID\": \"Int64\",\n",
    "  \"DOLocationID\": \"Int64\",\n",
    "  \"RatecodeID\": \"Int64\",\n",
    "  \"store_and_fwd_flag\": \"string\",\n",
    "  \"payment_type\": \"Int64\",\n",
    "  \"fare_amount\": \"float64\",\n",
    "  \"extra\": \"float64\",\n",
    "  \"mta_tax\": \"float64\",\n",
    "  \"improvement_surcharge\": \"float64\",\n",
    "  \"tip_amount\": \"float64\",\n",
    "  \"tolls_amount\": \"float64\",\n",
    "  \"total_amount\": \"float64\",\n",
    "  \"congestion_surcharge\": \"float64\",\n",
    "  \"ehail_fee\": \"float64\",\n",
    "  \"trip_type\": \"Int64\"\n",
    "}"
   ]
  },
  {
   "cell_type": "markdown",
   "id": "c82f3ad7-2fcd-40d7-85f2-2170e771e286",
   "metadata": {},
   "source": [
    "### 2019"
   ]
  },
  {
   "cell_type": "code",
   "execution_count": 20,
   "id": "e5428f32-3506-42b6-80dc-adf0bb4a16ce",
   "metadata": {},
   "outputs": [],
   "source": [
    "df1_green_19 = pd.read_parquet('files/green_tripdata_2019-01.parquet').astype(green)\n",
    "df2_green_19 = pd.read_parquet('files/green_tripdata_2019-02.parquet').astype(green)\n",
    "df3_green_19 = pd.read_parquet('files/green_tripdata_2019-03.parquet').astype(green)\n",
    "df4_green_19 = pd.read_parquet('files/green_tripdata_2019-04.parquet').astype(green)\n",
    "df5_green_19 = pd.read_parquet('files/green_tripdata_2019-05.parquet').astype(green)\n",
    "df6_green_19 = pd.read_parquet('files/green_tripdata_2019-06.parquet').astype(green)\n",
    "df7_green_19 = pd.read_parquet('files/green_tripdata_2019-07.parquet').astype(green)\n",
    "df8_green_19 = pd.read_parquet('files/green_tripdata_2019-08.parquet').astype(green)\n",
    "df9_green_19 = pd.read_parquet('files/green_tripdata_2019-09.parquet').astype(green)\n",
    "df10_green_19 = pd.read_parquet('files/green_tripdata_2019-10.parquet').astype(green)\n",
    "df11_green_19 = pd.read_parquet('files/green_tripdata_2019-11.parquet').astype(green)\n",
    "df12_green_19 = pd.read_parquet('files/green_tripdata_2019-12.parquet').astype(green)"
   ]
  },
  {
   "cell_type": "code",
   "execution_count": 21,
   "id": "8f45d571-986b-4093-9fcb-52e3b334ea67",
   "metadata": {},
   "outputs": [],
   "source": [
    "df1_green_19.to_parquet(f'files/green_tripdata_2019-01.parquet', engine='pyarrow', index=False)\n",
    "df2_green_19.to_parquet(f'files/green_tripdata_2019-02.parquet', engine='pyarrow', index=False)\n",
    "df3_green_19.to_parquet(f'files/green_tripdata_2019-03.parquet', engine='pyarrow', index=False)\n",
    "df4_green_19.to_parquet(f'files/green_tripdata_2019-04.parquet', engine='pyarrow', index=False)\n",
    "df5_green_19.to_parquet(f'files/green_tripdata_2019-05.parquet', engine='pyarrow', index=False)\n",
    "df6_green_19.to_parquet(f'files/green_tripdata_2019-06.parquet', engine='pyarrow', index=False)\n",
    "df7_green_19.to_parquet(f'files/green_tripdata_2019-07.parquet', engine='pyarrow', index=False)\n",
    "df8_green_19.to_parquet(f'files/green_tripdata_2019-08.parquet', engine='pyarrow', index=False)\n",
    "df9_green_19.to_parquet(f'files/green_tripdata_2019-09.parquet', engine='pyarrow', index=False)\n",
    "df10_green_19.to_parquet(f'files/green_tripdata_2019-10.parquet', engine='pyarrow', index=False)\n",
    "df11_green_19.to_parquet(f'files/green_tripdata_2019-11.parquet', engine='pyarrow', index=False)\n",
    "df12_green_19.to_parquet(f'files/green_tripdata_2019-12.parquet', engine='pyarrow', index=False)"
   ]
  },
  {
   "cell_type": "markdown",
   "id": "414cf13e-8b97-4aa5-acb4-f91766b40881",
   "metadata": {},
   "source": [
    "### 2020"
   ]
  },
  {
   "cell_type": "code",
   "execution_count": 22,
   "id": "0b00385a-41b2-4f85-a8ea-68234941565b",
   "metadata": {},
   "outputs": [],
   "source": [
    "df1_green_20 = pd.read_parquet('files/green_tripdata_2020-01.parquet').astype(green)\n",
    "df2_green_20 = pd.read_parquet('files/green_tripdata_2020-02.parquet').astype(green)\n",
    "df3_green_20 = pd.read_parquet('files/green_tripdata_2020-03.parquet').astype(green)\n",
    "df4_green_20 = pd.read_parquet('files/green_tripdata_2020-04.parquet').astype(green)\n",
    "df5_green_20 = pd.read_parquet('files/green_tripdata_2020-05.parquet').astype(green)\n",
    "df6_green_20 = pd.read_parquet('files/green_tripdata_2020-06.parquet').astype(green)\n",
    "df7_green_20 = pd.read_parquet('files/green_tripdata_2020-07.parquet').astype(green)\n",
    "df8_green_20 = pd.read_parquet('files/green_tripdata_2020-08.parquet').astype(green)\n",
    "df9_green_20 = pd.read_parquet('files/green_tripdata_2020-09.parquet').astype(green)\n",
    "df10_green_20 = pd.read_parquet('files/green_tripdata_2020-10.parquet').astype(green)\n",
    "df11_green_20 = pd.read_parquet('files/green_tripdata_2020-11.parquet').astype(green)\n",
    "df12_green_20 = pd.read_parquet('files/green_tripdata_2020-12.parquet').astype(green)"
   ]
  },
  {
   "cell_type": "code",
   "execution_count": 23,
   "id": "35089359-e1f5-4959-ad01-bb8f5f0db436",
   "metadata": {},
   "outputs": [],
   "source": [
    "df1_green_20.to_parquet(f'files/green_tripdata_2020-01.parquet', engine='pyarrow', index=False)\n",
    "df2_green_20.to_parquet(f'files/green_tripdata_2020-02.parquet', engine='pyarrow', index=False)\n",
    "df3_green_20.to_parquet(f'files/green_tripdata_2020-03.parquet', engine='pyarrow', index=False)\n",
    "df4_green_20.to_parquet(f'files/green_tripdata_2020-04.parquet', engine='pyarrow', index=False)\n",
    "df5_green_20.to_parquet(f'files/green_tripdata_2020-05.parquet', engine='pyarrow', index=False)\n",
    "df6_green_20.to_parquet(f'files/green_tripdata_2020-06.parquet', engine='pyarrow', index=False)\n",
    "df7_green_20.to_parquet(f'files/green_tripdata_2020-07.parquet', engine='pyarrow', index=False)\n",
    "df8_green_20.to_parquet(f'files/green_tripdata_2020-08.parquet', engine='pyarrow', index=False)\n",
    "df9_green_20.to_parquet(f'files/green_tripdata_2020-09.parquet', engine='pyarrow', index=False)\n",
    "df10_green_20.to_parquet(f'files/green_tripdata_2020-10.parquet', engine='pyarrow', index=False)\n",
    "df11_green_20.to_parquet(f'files/green_tripdata_2020-11.parquet', engine='pyarrow', index=False)\n",
    "df12_green_20.to_parquet(f'files/green_tripdata_2020-12.parquet', engine='pyarrow', index=False)"
   ]
  },
  {
   "cell_type": "code",
   "execution_count": 24,
   "id": "29fdf9ea-fc5b-47f0-8e92-fe15f7c586ab",
   "metadata": {},
   "outputs": [
    {
     "data": {
      "text/plain": [
       "VendorID                          Int64\n",
       "lpep_pickup_datetime     datetime64[ns]\n",
       "lpep_dropoff_datetime    datetime64[ns]\n",
       "store_and_fwd_flag               string\n",
       "RatecodeID                        Int64\n",
       "PULocationID                      Int64\n",
       "DOLocationID                      Int64\n",
       "passenger_count                   Int64\n",
       "trip_distance                   float64\n",
       "fare_amount                     float64\n",
       "extra                           float64\n",
       "mta_tax                         float64\n",
       "tip_amount                      float64\n",
       "tolls_amount                    float64\n",
       "ehail_fee                       float64\n",
       "improvement_surcharge           float64\n",
       "total_amount                    float64\n",
       "payment_type                      Int64\n",
       "trip_type                         Int64\n",
       "congestion_surcharge            float64\n",
       "dtype: object"
      ]
     },
     "execution_count": 24,
     "metadata": {},
     "output_type": "execute_result"
    }
   ],
   "source": [
    "df1_green_20.dtypes"
   ]
  },
  {
   "cell_type": "code",
   "execution_count": null,
   "id": "4635af31-96b0-4a5f-b702-be9f6d901423",
   "metadata": {},
   "outputs": [],
   "source": []
  }
 ],
 "metadata": {
  "kernelspec": {
   "display_name": "Python 3 (ipykernel)",
   "language": "python",
   "name": "python3"
  },
  "language_info": {
   "codemirror_mode": {
    "name": "ipython",
    "version": 3
   },
   "file_extension": ".py",
   "mimetype": "text/x-python",
   "name": "python",
   "nbconvert_exporter": "python",
   "pygments_lexer": "ipython3",
   "version": "3.9.12"
  }
 },
 "nbformat": 4,
 "nbformat_minor": 5
}
